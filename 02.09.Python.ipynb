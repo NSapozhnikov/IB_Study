{
 "cells": [
  {
   "cell_type": "code",
   "execution_count": 3,
   "id": "42683b04",
   "metadata": {},
   "outputs": [],
   "source": [
    "### 02.09 Python\n",
    "### Version control system: Git"
   ]
  },
  {
   "cell_type": "code",
   "execution_count": null,
   "id": "9fbd7b91",
   "metadata": {},
   "outputs": [],
   "source": []
  }
 ],
 "metadata": {
  "kernelspec": {
   "display_name": "Python 3 (ipykernel)",
   "language": "python",
   "name": "python3"
  },
  "language_info": {
   "codemirror_mode": {
    "name": "ipython",
    "version": 3
   },
   "file_extension": ".py",
   "mimetype": "text/x-python",
   "name": "python",
   "nbconvert_exporter": "python",
   "pygments_lexer": "ipython3",
   "version": "3.10.9"
  }
 },
 "nbformat": 4,
 "nbformat_minor": 5
}
